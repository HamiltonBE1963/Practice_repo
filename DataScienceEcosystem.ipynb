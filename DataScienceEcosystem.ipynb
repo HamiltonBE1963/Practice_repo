{
 "cells": [
  {
   "cell_type": "markdown",
   "id": "365ced54-7569-4fa2-b0a4-401bd1eac382",
   "metadata": {},
   "source": [
    "# Data Science Tools and Ecosystem"
   ]
  },
  {
   "cell_type": "markdown",
   "id": "cd9f6048-df41-4be0-b5b7-78c00d7630a2",
   "metadata": {},
   "source": [
    "## In this notebook, Data Science Tools and Ecosystem are summarized.\n",
    "\n"
   ]
  },
  {
   "cell_type": "markdown",
   "id": "37f7906e-d7be-44bd-b645-160f20411b65",
   "metadata": {},
   "source": [
    "## Objectives:\n",
    "* Name popular languages used in Data Science\n",
    "* Name commonly used languages in Data Science\n",
    "* Provide a table of Data Science Tools\n",
    "* Show some examples of Arithmetic in Python\n",
    "* Shaw an example of a mixed arithmetic calculation in Python"
   ]
  },
  {
   "cell_type": "markdown",
   "id": "bf33a8ee-a67b-45ff-ab08-b785165197e5",
   "metadata": {},
   "source": [
    "### Some of the popular languages that Data Scientists use are:"
   ]
  },
  {
   "cell_type": "markdown",
   "id": "32ac819a-e8f7-461e-b5a9-ef7ceb502f23",
   "metadata": {},
   "source": [
    "1. Python\n",
    "2. R\n",
    "3. SQL"
   ]
  },
  {
   "cell_type": "markdown",
   "id": "595b117c-3f6c-4a81-9da7-cae4d6f7792f",
   "metadata": {},
   "source": [
    "### Some of the commonly used libraries used by Data Scientists include:\n",
    "1. scikit-learn\n",
    "2. pandas\n",
    "3. Matplotlib"
   ]
  },
  {
   "cell_type": "markdown",
   "id": "677706d5-0d9e-4a36-b697-f16fe1a87a59",
   "metadata": {},
   "source": [
    "| Data Science Tools |\n",
    "|--------------------|\n",
    "| Jupyter Notebook   |\n",
    "| RStudio            |\n",
    "| Apache Spark       |"
   ]
  },
  {
   "cell_type": "markdown",
   "id": "a3455c69-d27b-4abc-a0a6-7329254a4e48",
   "metadata": {},
   "source": [
    "### Below are a few examples of evaluating arithmetic expressions in Python.\n",
    "$$1+1=2$$\n",
    "$$2+2=4$$"
   ]
  },
  {
   "cell_type": "code",
   "execution_count": 1,
   "id": "e4988347-d880-4342-97bc-71defe97e6d5",
   "metadata": {},
   "outputs": [
    {
     "data": {
      "text/plain": [
       "17"
      ]
     },
     "execution_count": 1,
     "metadata": {},
     "output_type": "execute_result"
    }
   ],
   "source": [
    "# This a simple arithmetic expression to multiply then add integers.\n",
    "(3*4)+5\n"
   ]
  },
  {
   "cell_type": "code",
   "execution_count": 2,
   "id": "cae9ac55-e591-494d-b8dc-965fae0140a4",
   "metadata": {},
   "outputs": [
    {
     "data": {
      "text/plain": [
       "3.3333333333333335"
      ]
     },
     "execution_count": 2,
     "metadata": {},
     "output_type": "execute_result"
    }
   ],
   "source": [
    "# This will convert 200 minutes to hours by diving by 60.\n",
    "200/60"
   ]
  },
  {
   "cell_type": "markdown",
   "id": "2d618f48-fca1-486f-a75b-b825d07f35ba",
   "metadata": {},
   "source": [
    "## Author\n",
    "Bruce Hamilton"
   ]
  },
  {
   "cell_type": "code",
   "execution_count": null,
   "id": "6a8cf12b-92f0-47ab-a2d1-8b6a0c209429",
   "metadata": {},
   "outputs": [],
   "source": []
  }
 ],
 "metadata": {
  "kernelspec": {
   "display_name": "Python 3 (ipykernel)",
   "language": "python",
   "name": "python3"
  },
  "language_info": {
   "codemirror_mode": {
    "name": "ipython",
    "version": 3
   },
   "file_extension": ".py",
   "mimetype": "text/x-python",
   "name": "python",
   "nbconvert_exporter": "python",
   "pygments_lexer": "ipython3",
   "version": "3.12.7"
  }
 },
 "nbformat": 4,
 "nbformat_minor": 5
}
